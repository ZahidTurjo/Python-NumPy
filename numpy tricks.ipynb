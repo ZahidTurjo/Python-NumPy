{
 "cells": [
  {
   "cell_type": "code",
   "execution_count": 3,
   "id": "4456abe7-4fe1-4419-ad68-80c6c69d1726",
   "metadata": {},
   "outputs": [
    {
     "data": {
      "text/plain": [
       "array([[22, 72, 83,  9],\n",
       "       [46, 97, 97, 14],\n",
       "       [16, 41, 17, 87],\n",
       "       [22,  9, 43, 33],\n",
       "       [68, 34, 46, 53],\n",
       "       [54, 22, 52, 99]])"
      ]
     },
     "execution_count": 3,
     "metadata": {},
     "output_type": "execute_result"
    }
   ],
   "source": [
    "# sort\n",
    "import numpy as np\n",
    "a=np.random.randint(1,100,24).reshape(6,4)\n",
    "a"
   ]
  },
  {
   "cell_type": "code",
   "execution_count": 5,
   "id": "ad0aac5c-4fdf-469e-abec-c8637199bfb8",
   "metadata": {},
   "outputs": [
    {
     "data": {
      "text/plain": [
       "array([[ 9, 22, 72, 83],\n",
       "       [14, 46, 97, 97],\n",
       "       [16, 17, 41, 87],\n",
       "       [ 9, 22, 33, 43],\n",
       "       [34, 46, 53, 68],\n",
       "       [22, 52, 54, 99]])"
      ]
     },
     "execution_count": 5,
     "metadata": {},
     "output_type": "execute_result"
    }
   ],
   "source": [
    "np.sort(a)"
   ]
  },
  {
   "cell_type": "code",
   "execution_count": 13,
   "id": "4ddd234a-d680-4086-b1e0-5a113e545fee",
   "metadata": {},
   "outputs": [
    {
     "data": {
      "text/plain": [
       "array([[68, 97, 97, 99],\n",
       "       [54, 72, 83, 87],\n",
       "       [46, 41, 52, 53],\n",
       "       [22, 34, 46, 33],\n",
       "       [22, 22, 43, 14],\n",
       "       [16,  9, 17,  9]])"
      ]
     },
     "execution_count": 13,
     "metadata": {},
     "output_type": "execute_result"
    }
   ],
   "source": [
    "np.sort(a,axis=0)[::-1]"
   ]
  },
  {
   "cell_type": "code",
   "execution_count": 11,
   "id": "5c81e867-c4e1-4702-ae6c-322035c63fdf",
   "metadata": {},
   "outputs": [
    {
     "data": {
      "text/plain": [
       "array([[22, 52, 54, 99],\n",
       "       [34, 46, 53, 68],\n",
       "       [ 9, 22, 33, 43],\n",
       "       [16, 17, 41, 87],\n",
       "       [14, 46, 97, 97],\n",
       "       [ 9, 22, 72, 83]])"
      ]
     },
     "execution_count": 11,
     "metadata": {},
     "output_type": "execute_result"
    }
   ],
   "source": [
    "# for descending\n",
    "np.sort(a)[::-1]"
   ]
  },
  {
   "cell_type": "code",
   "execution_count": 40,
   "id": "cf1a8263-d684-446f-aade-291bfeefc8cf",
   "metadata": {},
   "outputs": [
    {
     "data": {
      "text/plain": [
       "array([[22, 72, 83,  9],\n",
       "       [46, 97, 97, 14],\n",
       "       [16, 41, 17, 87],\n",
       "       [22,  9, 43, 33],\n",
       "       [68, 34, 46, 53],\n",
       "       [54, 22, 52, 99],\n",
       "       [ 2, 34,  6,  8],\n",
       "       [ 4,  5,  7,  8]])"
      ]
     },
     "execution_count": 40,
     "metadata": {},
     "output_type": "execute_result"
    }
   ],
   "source": [
    "# append axis colum\n",
    "value=np.array([[2,34,6,8],[4,5,7,8]])\n",
    "x=np.append(a,value,axis=0)\n"
   ]
  },
  {
   "cell_type": "code",
   "execution_count": 42,
   "id": "bbb20724-9d08-40b7-942a-ae37d79b6968",
   "metadata": {},
   "outputs": [
    {
     "data": {
      "text/plain": [
       "array([[22, 72, 83,  9,  1],\n",
       "       [46, 97, 97, 14,  1],\n",
       "       [16, 41, 17, 87,  1],\n",
       "       [22,  9, 43, 33,  1],\n",
       "       [68, 34, 46, 53,  1],\n",
       "       [54, 22, 52, 99,  1]])"
      ]
     },
     "execution_count": 42,
     "metadata": {},
     "output_type": "execute_result"
    }
   ],
   "source": [
    "# append axis row\n",
    "value2=np.array([[1,],[1],[1],[1],[1],[1]])\n",
    "y=np.append(a,value2, axis=1)\n",
    "y"
   ]
  },
  {
   "cell_type": "code",
   "execution_count": 79,
   "id": "7d243a71-92f8-40a9-b7ba-26915ad000e3",
   "metadata": {},
   "outputs": [
    {
     "name": "stdout",
     "output_type": "stream",
     "text": [
      "[[0 1 2]\n",
      " [3 4 5]]\n",
      "[[ 6  7  8]\n",
      " [ 9 10 11]]\n"
     ]
    },
    {
     "data": {
      "text/plain": [
       "array([[ 0,  1,  2],\n",
       "       [ 3,  4,  5],\n",
       "       [ 6,  7,  8],\n",
       "       [ 9, 10, 11]])"
      ]
     },
     "execution_count": 79,
     "metadata": {},
     "output_type": "execute_result"
    }
   ],
   "source": [
    "# concatenate\n",
    "c=np.arange(6).reshape(2,3)\n",
    "d=np.arange(6,12).reshape(2,3)\n",
    "print(c)\n",
    "print(d)\n",
    "# np.vstack((c,d))\n",
    "np.concatenate((c,d), axis=0)"
   ]
  },
  {
   "cell_type": "code",
   "execution_count": 83,
   "id": "378e3159-0344-47ab-b822-0a5c16cd8163",
   "metadata": {},
   "outputs": [
    {
     "data": {
      "text/plain": [
       "array([[ 0,  1,  2,  6,  7,  8],\n",
       "       [ 3,  4,  5,  9, 10, 11]])"
      ]
     },
     "execution_count": 83,
     "metadata": {},
     "output_type": "execute_result"
    }
   ],
   "source": [
    "# np.hstack((c,d))\n",
    "np.concatenate((c,d), axis=1)"
   ]
  },
  {
   "cell_type": "code",
   "execution_count": 111,
   "id": "785a1be9-379a-4cde-84ef-e7b16f0a8784",
   "metadata": {},
   "outputs": [
    {
     "data": {
      "text/plain": [
       "5"
      ]
     },
     "execution_count": 111,
     "metadata": {},
     "output_type": "execute_result"
    }
   ],
   "source": [
    "# unique\n",
    "e=np.array([1,1,1,2,2,3,3,1,2,3,4,5,4,5])\n",
    "f=np.array([[11,23,54,11,23,1,2,1,2,3,3],[1,2,3,4,1,2,3,4,7,8,100]])\n",
    "np.unique(f).shape\n",
    "np.unique(e).size\n",
    "\n"
   ]
  },
  {
   "cell_type": "code",
   "execution_count": 117,
   "id": "7419b74d-00c9-4460-89f9-068f8693b436",
   "metadata": {},
   "outputs": [
    {
     "data": {
      "text/plain": [
       "array([58, 32,  2, 16, 78, 52, 47, 40, 51, 26, 31, 71])"
      ]
     },
     "execution_count": 117,
     "metadata": {},
     "output_type": "execute_result"
    }
   ],
   "source": [
    "z=np.random.randint(1,100,12)\n",
    "z"
   ]
  },
  {
   "cell_type": "code",
   "execution_count": 123,
   "id": "5b038914-6df0-4500-b883-1f8b4c3a373a",
   "metadata": {},
   "outputs": [
    {
     "data": {
      "text/plain": [
       "(array([ 0,  4,  5,  8, 11], dtype=int64),)"
      ]
     },
     "execution_count": 123,
     "metadata": {},
     "output_type": "execute_result"
    }
   ],
   "source": [
    "# where\n",
    "indices=np.where(z>50)\n",
    "indices"
   ]
  },
  {
   "cell_type": "code",
   "execution_count": 125,
   "id": "0fe61e3d-2ed1-4c46-8bbd-afcda2944ff8",
   "metadata": {},
   "outputs": [
    {
     "data": {
      "text/plain": [
       "array([58, 78, 52, 51, 71])"
      ]
     },
     "execution_count": 125,
     "metadata": {},
     "output_type": "execute_result"
    }
   ],
   "source": [
    "z[indices]"
   ]
  },
  {
   "cell_type": "code",
   "execution_count": 137,
   "id": "a716ae21-fe93-4a21-b2b4-b6f1142a738e",
   "metadata": {},
   "outputs": [
    {
     "data": {
      "text/plain": [
       "array(['yes', 'no', 'no', 'no', 'yes', 'yes', 'yes', 'no', 'yes', 'no',\n",
       "       'no', 'yes'], dtype='<U3')"
      ]
     },
     "execution_count": 137,
     "metadata": {},
     "output_type": "execute_result"
    }
   ],
   "source": [
    "# np.where(condition,true,false)\n",
    "np.where(z>40,\"yes\",\"no\")"
   ]
  },
  {
   "cell_type": "code",
   "execution_count": 139,
   "id": "eac54594-1480-4f95-a433-b4986d5cda83",
   "metadata": {},
   "outputs": [
    {
     "data": {
      "text/plain": [
       "array([ 0,  0,  0,  0,  0,  0, 47,  0, 51,  0, 31, 71])"
      ]
     },
     "execution_count": 139,
     "metadata": {},
     "output_type": "execute_result"
    }
   ],
   "source": [
    "np.where(z%2==0,0,z)"
   ]
  },
  {
   "cell_type": "code",
   "execution_count": 141,
   "id": "9f77e2b3-3adc-4a4c-ad2d-c85506c07d8e",
   "metadata": {},
   "outputs": [
    {
     "name": "stdout",
     "output_type": "stream",
     "text": [
      "[58 32  2 16 78 52 47 40 51 26 31 71]\n",
      "4\n"
     ]
    }
   ],
   "source": [
    "# argmax\n",
    "print(z)\n",
    "print(np.argmax(z))"
   ]
  },
  {
   "cell_type": "code",
   "execution_count": 151,
   "id": "75981634-8720-4a38-81b8-da9c543d9ee0",
   "metadata": {},
   "outputs": [
    {
     "data": {
      "text/plain": [
       "array([4, 1, 1, 5], dtype=int64)"
      ]
     },
     "execution_count": 151,
     "metadata": {},
     "output_type": "execute_result"
    }
   ],
   "source": [
    "np.argmax(a,axis=0)"
   ]
  },
  {
   "cell_type": "code",
   "execution_count": 147,
   "id": "7ee20d46-8ebb-4300-acb0-93eafab3b5ee",
   "metadata": {},
   "outputs": [
    {
     "name": "stdout",
     "output_type": "stream",
     "text": [
      "[[22 72 83  9]\n",
      " [46 97 97 14]\n",
      " [16 41 17 87]\n",
      " [22  9 43 33]\n",
      " [68 34 46 53]\n",
      " [54 22 52 99]]\n"
     ]
    }
   ],
   "source": [
    "print(a)"
   ]
  },
  {
   "cell_type": "code",
   "execution_count": 173,
   "id": "6f56863f-a7be-4487-a2d7-767a8cde95d7",
   "metadata": {},
   "outputs": [
    {
     "data": {
      "text/plain": [
       "array([[1., 1., 1., 1.],\n",
       "       [2., 2., 2., 2.],\n",
       "       [3., 3., 3., 3.],\n",
       "       [4., 4., 4., 4.],\n",
       "       [5., 5., 5., 5.],\n",
       "       [6., 6., 6., 6.],\n",
       "       [7., 7., 7., 7.]])"
      ]
     },
     "execution_count": 173,
     "metadata": {},
     "output_type": "execute_result"
    }
   ],
   "source": [
    "# cumsum, cumpord\n",
    "g=np.ones((7,4))\n",
    "np.cumsum(g, axis=0)"
   ]
  },
  {
   "cell_type": "code",
   "execution_count": 179,
   "id": "283b84f1-f79e-40ec-834b-72f105fe768c",
   "metadata": {},
   "outputs": [
    {
     "data": {
      "text/plain": [
       "array([         22,        1584,      131472,     1183248,    54429408,\n",
       "         984685280,  1025191648,  1467781184,  2009662464,   791782400,\n",
       "         575398912, -1479902208,  1801889792,  -962861056,  1546647552,\n",
       "        -500238336,   343531520, -1204830208,   412385280,   381583360,\n",
       "        -869335040, -1945501696,  1913126912,   421003264])"
      ]
     },
     "execution_count": 179,
     "metadata": {},
     "output_type": "execute_result"
    }
   ],
   "source": [
    "np.cumprod(a)"
   ]
  },
  {
   "cell_type": "code",
   "execution_count": 187,
   "id": "0a1a0ec6-f392-4bfd-b110-be14c627eacf",
   "metadata": {},
   "outputs": [
    {
     "data": {
      "text/plain": [
       "array([58, 32,  2, 16, 78, 52, 47, 40, 51, 26, 31, 71])"
      ]
     },
     "execution_count": 187,
     "metadata": {},
     "output_type": "execute_result"
    }
   ],
   "source": [
    "z"
   ]
  },
  {
   "cell_type": "code",
   "execution_count": 193,
   "id": "4f3e84b8-d670-4054-a390-64ac677f4b3b",
   "metadata": {},
   "outputs": [
    {
     "data": {
      "text/plain": [
       "(array([1, 1, 2, 2, 3, 0, 2, 0, 0], dtype=int64),\n",
       " array([ 10,  20,  30,  40,  50,  60,  70,  80,  90, 100]))"
      ]
     },
     "execution_count": 193,
     "metadata": {},
     "output_type": "execute_result"
    }
   ],
   "source": [
    "# histogram\n",
    "np.histogram(z,bins=[10,20,30,40,50,60,70,80,90,100])"
   ]
  },
  {
   "cell_type": "code",
   "execution_count": 197,
   "id": "4293bab6-eefc-442b-8d2f-1305a34df3fb",
   "metadata": {},
   "outputs": [
    {
     "data": {
      "text/plain": [
       "array([58, 40])"
      ]
     },
     "execution_count": 197,
     "metadata": {},
     "output_type": "execute_result"
    }
   ],
   "source": [
    "# isin\n",
    "items=[58,40,50,20]\n",
    "z[np.isin(z,items)]"
   ]
  },
  {
   "cell_type": "code",
   "execution_count": 209,
   "id": "7768988d-af29-4969-aa8d-6b702f19a6ce",
   "metadata": {},
   "outputs": [
    {
     "data": {
      "text/plain": [
       "array([[54, 22, 52, 99],\n",
       "       [68, 34, 46, 53],\n",
       "       [22,  9, 43, 33],\n",
       "       [16, 41, 17, 87],\n",
       "       [46, 97, 97, 14],\n",
       "       [22, 72, 83,  9]])"
      ]
     },
     "execution_count": 209,
     "metadata": {},
     "output_type": "execute_result"
    }
   ],
   "source": [
    "# flip\n",
    "np.flip(a,axis=0)\n"
   ]
  },
  {
   "cell_type": "code",
   "execution_count": 221,
   "id": "46649e5b-5ecb-4a95-9209-5ee138b2cfce",
   "metadata": {},
   "outputs": [
    {
     "data": {
      "text/plain": [
       "array([ 100, 1029,    2,   16,   78,   52,   47,   40,   51,   26,   31,\n",
       "         71])"
      ]
     },
     "execution_count": 221,
     "metadata": {},
     "output_type": "execute_result"
    }
   ],
   "source": [
    "z"
   ]
  },
  {
   "cell_type": "code",
   "execution_count": 219,
   "id": "91ff17cd-7eda-4f54-8d2b-0b5f0cd4db76",
   "metadata": {},
   "outputs": [],
   "source": [
    "# put\n",
    "x=np.put(z,[0,1],[100,1029])\n"
   ]
  },
  {
   "cell_type": "code",
   "execution_count": 223,
   "id": "d5d9e25d-ec9f-4852-b645-7d9cefff3190",
   "metadata": {},
   "outputs": [
    {
     "data": {
      "text/plain": [
       "array([ 2, 16, 78, 52, 47, 40, 51, 26, 31, 71])"
      ]
     },
     "execution_count": 223,
     "metadata": {},
     "output_type": "execute_result"
    }
   ],
   "source": [
    "# delete\n",
    "np.delete(z,[0,1])"
   ]
  },
  {
   "cell_type": "code",
   "execution_count": 227,
   "id": "3aca75d7-9411-4d4e-99dd-5460d12ed85e",
   "metadata": {},
   "outputs": [
    {
     "data": {
      "text/plain": [
       "array([1, 2, 3, 4, 5, 6, 7])"
      ]
     },
     "execution_count": 227,
     "metadata": {},
     "output_type": "execute_result"
    }
   ],
   "source": [
    "m=np.array([1,2,3,4,5])\n",
    "n=np.array([3,4,5,6,7])\n",
    "np.union1d(m,n)"
   ]
  },
  {
   "cell_type": "code",
   "execution_count": 229,
   "id": "704f5a57-05ab-4fdb-9bec-5043ea623bbd",
   "metadata": {},
   "outputs": [
    {
     "data": {
      "text/plain": [
       "array([3, 4, 5])"
      ]
     },
     "execution_count": 229,
     "metadata": {},
     "output_type": "execute_result"
    }
   ],
   "source": [
    "# intersection\n",
    "np.intersect1d(m,n)"
   ]
  },
  {
   "cell_type": "code",
   "execution_count": 233,
   "id": "c21ae444-50b2-434e-afd8-80b96a39df7f",
   "metadata": {},
   "outputs": [
    {
     "data": {
      "text/plain": [
       "array([6, 7])"
      ]
     },
     "execution_count": 233,
     "metadata": {},
     "output_type": "execute_result"
    }
   ],
   "source": [
    "# /difference\n",
    "np.setdiff1d(n,m)"
   ]
  },
  {
   "cell_type": "code",
   "execution_count": 235,
   "id": "f2f1618d-bdf0-44cb-8621-ec743ef9791e",
   "metadata": {},
   "outputs": [
    {
     "data": {
      "text/plain": [
       "array([1, 2, 6, 7])"
      ]
     },
     "execution_count": 235,
     "metadata": {},
     "output_type": "execute_result"
    }
   ],
   "source": [
    "# /setxor\n",
    "np.setxor1d(m,n)"
   ]
  },
  {
   "cell_type": "code",
   "execution_count": 239,
   "id": "63b4af7c-b440-471d-95ec-f64efb382da1",
   "metadata": {},
   "outputs": [
    {
     "data": {
      "text/plain": [
       "array([ True,  True,  True, False, False])"
      ]
     },
     "execution_count": 239,
     "metadata": {},
     "output_type": "execute_result"
    }
   ],
   "source": [
    "np.in1d(n,m)"
   ]
  },
  {
   "cell_type": "code",
   "execution_count": null,
   "id": "e06d2d15-c9cd-4400-82bd-9a037a8a56f9",
   "metadata": {},
   "outputs": [],
   "source": []
  }
 ],
 "metadata": {
  "kernelspec": {
   "display_name": "Python 3 (ipykernel)",
   "language": "python",
   "name": "python3"
  },
  "language_info": {
   "codemirror_mode": {
    "name": "ipython",
    "version": 3
   },
   "file_extension": ".py",
   "mimetype": "text/x-python",
   "name": "python",
   "nbconvert_exporter": "python",
   "pygments_lexer": "ipython3",
   "version": "3.12.4"
  }
 },
 "nbformat": 4,
 "nbformat_minor": 5
}
